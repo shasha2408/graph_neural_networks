{
 "cells": [
  {
   "cell_type": "markdown",
   "id": "b297daff-c32f-42a8-ae68-b536808bb361",
   "metadata": {
    "tags": []
   },
   "source": [
    "# Load modules"
   ]
  },
  {
   "cell_type": "code",
   "execution_count": null,
   "id": "90da70a9-12c2-477d-9362-2355cd25360f",
   "metadata": {},
   "outputs": [],
   "source": [
    "#default_exp graphmodel"
   ]
  },
  {
   "cell_type": "code",
   "execution_count": 1,
   "id": "0ba77df7-4698-4404-aa21-c31824de967f",
   "metadata": {},
   "outputs": [],
   "source": [
    "from fastai.tabular.all import *\n",
    "from fastai.data.core import DataLoader\n",
    "from fastcore.foundation import *\n",
    "from fastcore.basics import *\n",
    "from concurrent.futures import ProcessPoolExecutor\n",
    "from torch import nn"
   ]
  },
  {
   "cell_type": "markdown",
   "id": "5fd023ae-2d0c-4c95-9948-ad89cf5a7bff",
   "metadata": {
    "tags": []
   },
   "source": [
    "### Pytorch layer"
   ]
  },
  {
   "cell_type": "code",
   "execution_count": 2,
   "id": "6673272d-c723-48b2-9770-09336d35f46e",
   "metadata": {},
   "outputs": [],
   "source": [
    "#export\n",
    "class GCNLayer(Module):\n",
    "    \"\"\"\n",
    "    Prototype Graph convolutional layer as described by Kipf & Welling(https://arxiv.org/pdf/1609.02907.pdf)\n",
    "    \n",
    "    \"\"\"\n",
    "    def __init__(self, ni=None, no=None):\n",
    "        self.in_features = ni\n",
    "        self.out_features = no\n",
    "        self.lin = nn.Linear(ni,no)\n",
    "        \n",
    "    def forward(self, x):\n",
    "\n",
    "        node_features, edge_features, adj_norm, degree_matrix = x # Get input features        \n",
    "        updated_nodes = F.relu(self.lin(degree_matrix@adj_norm@degree_matrix@node_features))\n",
    "        return updated_nodes, edge_features, adj_norm, degree_matrix\n",
    "\n",
    "    def __repr__(self):\n",
    "        return f'{self.__class__.__name__}\\nInput features: {self.in_features} -> Output features: {self.out_features}' "
   ]
  },
  {
   "cell_type": "code",
   "execution_count": 3,
   "id": "89f65e21-99b9-4910-9b35-664238f2be35",
   "metadata": {},
   "outputs": [],
   "source": [
    "#export\n",
    "class GCNModel(Module):\n",
    "    def __init__(self, ni, nh, no, y_range):\n",
    "        self.gcn = GCNLayer(ni, nh)\n",
    "        self.graph_conv = nn.Sequential(GCNLayer(ni, nh), \n",
    "                                       GCNLayer(nh, nh),\n",
    "                                       GCNLayer(nh, nh))\n",
    "\n",
    "        self.mlp = nn.Sequential(\n",
    "          nn.Linear(nh, nh//2),\n",
    "            nn.Dropout(0.15),\n",
    "          nn.ReLU(),\n",
    "          nn.Linear(nh//2,nh//4),\n",
    "            nn.Dropout(0.15),\n",
    "          nn.ReLU())\n",
    "        self.out = nn.Linear(nh//4, no)\n",
    "        \n",
    "        self.sigmoid = SigmoidRange(*y_range)\n",
    "        \n",
    "    def forward(self, x):\n",
    "        x = self.graph_conv(x)\n",
    "        x_lin = self.mlp(torch.mean(x[0],1))\n",
    "        out = self.out(x_lin)\n",
    "        return self.sigmoid(out)"
   ]
  },
  {
   "cell_type": "code",
   "execution_count": null,
   "id": "13490b0a-2ceb-4fd7-8976-cef9437d09dc",
   "metadata": {},
   "outputs": [],
   "source": []
  }
 ],
 "metadata": {
  "kernelspec": {
   "display_name": "conda_envs",
   "language": "python",
   "name": "conda_envs"
  },
  "language_info": {
   "codemirror_mode": {
    "name": "ipython",
    "version": 3
   },
   "file_extension": ".py",
   "mimetype": "text/x-python",
   "name": "python",
   "nbconvert_exporter": "python",
   "pygments_lexer": "ipython3",
   "version": "3.9.12"
  }
 },
 "nbformat": 4,
 "nbformat_minor": 5
}
